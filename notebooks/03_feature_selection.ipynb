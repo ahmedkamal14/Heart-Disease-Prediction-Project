{
 "cells": [
  {
   "cell_type": "markdown",
   "id": "86a02e94",
   "metadata": {},
   "source": [
    "### Importing Libraries"
   ]
  },
  {
   "cell_type": "code",
   "execution_count": 2,
   "id": "58790529",
   "metadata": {},
   "outputs": [],
   "source": [
    "import pandas as pd\n",
    "import matplotlib.pyplot as plt\n",
    "from sklearn.ensemble import RandomForestClassifier\n",
    "from sklearn.feature_selection import RFE, chi2\n",
    "from sklearn.preprocessing import MinMaxScaler\n",
    "from sklearn.model_selection import train_test_split"
   ]
  },
  {
   "cell_type": "code",
   "execution_count": 3,
   "id": "4c7897f3",
   "metadata": {},
   "outputs": [],
   "source": [
    "df_processed = pd.read_csv('../data/heart_disease_processed.csv')\n",
    "\n",
    "X = df_processed.drop('target', axis=1)\n",
    "y = df_processed['target']"
   ]
  },
  {
   "cell_type": "code",
   "execution_count": 4,
   "id": "5fee80a8",
   "metadata": {},
   "outputs": [
    {
     "name": "stdout",
     "output_type": "stream",
     "text": [
      "Feature Importances:\n",
      "     Feature  Importance\n",
      "7    thalach    0.138306\n",
      "9    oldpeak    0.122138\n",
      "4       chol    0.116422\n",
      "0        age    0.113967\n",
      "11        ca    0.097398\n",
      "3   trestbps    0.091751\n",
      "12      thal    0.077441\n",
      "2         cp    0.075563\n",
      "8      exang    0.047884\n",
      "10     slope    0.042916\n",
      "1        sex    0.028483\n",
      "6    restecg    0.027269\n",
      "5        fbs    0.020461\n"
     ]
    }
   ],
   "source": [
    "model = RandomForestClassifier(random_state=42)\n",
    "model.fit(X, y)\n",
    "\n",
    "importances = model.feature_importances_\n",
    "features = X.columns\n",
    "\n",
    "feature_importance_df = pd.DataFrame({'Feature': features, 'Importance': importances}).sort_values(by='Importance', ascending=False)\n",
    "\n",
    "print(\"Feature Importances:\")\n",
    "print(feature_importance_df)"
   ]
  },
  {
   "cell_type": "code",
   "execution_count": 5,
   "id": "b6452158",
   "metadata": {},
   "outputs": [
    {
     "data": {
      "image/png": "[encoded data removed]",
      "text/plain": [
       "<Figure size 1000x600 with 1 Axes>"
      ]
     },
     "metadata": {},
     "output_type": "display_data"
    }
   ],
   "source": [
    "plt.figure(figsize=(10, 6))\n",
    "plt.barh(feature_importance_df['Feature'], feature_importance_df['Importance'], color='skyblue')\n",
    "plt.xlabel('Importance')\n",
    "plt.title('Feature Importances from Random Forest')\n",
    "plt.gca().invert_yaxis()\n",
    "plt.show()\n"
   ]
  },
  {
   "cell_type": "code",
   "execution_count": 11,
   "id": "b0f9ba57",
   "metadata": {},
   "outputs": [
    {
     "name": "stdout",
     "output_type": "stream",
     "text": [
      "Selected Features using RFE:\n",
      "Index(['cp', 'restecg', 'oldpeak', 'ca', 'thal'], dtype='object')\n"
     ]
    }
   ],
   "source": [
    "from sklearn.linear_model import LogisticRegression\n",
    "\n",
    "estimator = LogisticRegression(max_iter=1000, random_state=42)\n",
    "selector = RFE(estimator, n_features_to_select=5)\n",
    "selector.fit(X, y)\n",
    "\n",
    "selected_features = X.columns[selector.support_]\n",
    "print(\"Selected Features using RFE:\")\n",
    "print(selected_features)"
   ]
  },
  {
   "cell_type": "code",
   "execution_count": 7,
   "id": "0745b2de",
   "metadata": {},
   "outputs": [],
   "source": [
    "scaler = MinMaxScaler()\n",
    "X_minmax = scaler.fit_transform(X)"
   ]
  },
  {
   "cell_type": "code",
   "execution_count": 9,
   "id": "ef049e15",
   "metadata": {},
   "outputs": [
    {
     "name": "stdout",
     "output_type": "stream",
     "text": [
      "Chi2 Scores:\n",
      "     Feature  Chi2 Score       p-value\n",
      "12      thal   48.176108  8.672776e-10\n",
      "8      exang   41.534482  2.083076e-08\n",
      "11        ca   36.622292  2.154659e-07\n",
      "9    oldpeak   16.451213  2.469786e-03\n",
      "10     slope   14.046618  7.147746e-03\n",
      "2         cp    8.234094  8.336977e-02\n",
      "1        sex    7.499223  1.117436e-01\n",
      "6    restecg    7.028775  1.343754e-01\n",
      "5        fbs    6.658223  1.550901e-01\n",
      "7    thalach    3.133976  5.356604e-01\n",
      "0        age    1.244886  8.706545e-01\n",
      "3   trestbps    0.622014  9.605862e-01\n",
      "4       chol    0.175931  9.963506e-01\n"
     ]
    }
   ],
   "source": [
    "chi2_scores, p_values = chi2(X_minmax, y)\n",
    "chi2_df = pd.DataFrame({'Feature': X.columns, 'Chi2 Score': chi2_scores, 'p-value': p_values})\n",
    "chi2_df = chi2_df.sort_values(by='Chi2 Score', ascending=False)\n",
    "\n",
    "print(\"Chi2 Scores:\")\n",
    "print(chi2_df)"
   ]
  },
  {
   "cell_type": "code",
   "execution_count": 10,
   "id": "116d2f4b",
   "metadata": {},
   "outputs": [
    {
     "name": "stdout",
     "output_type": "stream",
     "text": [
      "Significant Features (p-value < 0.05):\n",
      "    Feature  Chi2 Score       p-value\n",
      "12     thal   48.176108  8.672776e-10\n",
      "8     exang   41.534482  2.083076e-08\n",
      "11       ca   36.622292  2.154659e-07\n",
      "9   oldpeak   16.451213  2.469786e-03\n",
      "10    slope   14.046618  7.147746e-03\n"
     ]
    }
   ],
   "source": [
    "significant_features = chi2_df[chi2_df['p-value'] < 0.05]\n",
    "print(\"Significant Features (p-value < 0.05):\")\n",
    "print(significant_features)"
   ]
  },
  {
   "cell_type": "code",
   "execution_count": 12,
   "id": "2193c9fd",
   "metadata": {},
   "outputs": [],
   "source": [
    "final_features = list(set(selected_features) | set(significant_features['Feature']))\n",
    "\n",
    "df_final = df_processed[final_features + ['target']]\n",
    "df_final.to_csv('../data/heart_disease_RF.csv', index=False)"
   ]
  },
  {
   "cell_type": "code",
   "execution_count": null,
   "id": "08d76995",
   "metadata": {},
   "outputs": [],
   "source": []
  }
 ],
 "metadata": {
  "kernelspec": {
   "display_name": "base",
   "language": "python",
   "name": "python3"
  },
  "language_info": {
   "codemirror_mode": {
    "name": "ipython",
    "version": 3
   },
   "file_extension": ".py",
   "mimetype": "text/x-python",
   "name": "python",
   "nbconvert_exporter": "python",
   "pygments_lexer": "ipython3",
   "version": "3.11.5"
  }
 },
 "nbformat": 4,
 "nbformat_minor": 5
}
