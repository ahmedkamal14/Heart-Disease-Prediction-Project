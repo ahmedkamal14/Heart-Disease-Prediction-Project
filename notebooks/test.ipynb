{
 "cells": [
  {
   "cell_type": "code",
   "execution_count": 32,
   "id": "df20be41",
   "metadata": {},
   "outputs": [],
   "source": [
    "import pandas as pd\n",
    "import joblib\n",
    "import numpy as np\n",
    "from sklearn.model_selection import RandomizedSearchCV\n",
    "from sklearn.ensemble import RandomForestClassifier\n",
    "from sklearn.model_selection import train_test_split\n",
    "from sklearn.metrics import classification_report\n",
    "from sklearn.preprocessing import StandardScaler"
   ]
  },
  {
   "cell_type": "code",
   "execution_count": 33,
   "id": "7d57df50",
   "metadata": {},
   "outputs": [],
   "source": [
    "df = pd.read_csv('../data/heart_disease.csv')"
   ]
  },
  {
   "cell_type": "code",
   "execution_count": 34,
   "id": "11ebea36",
   "metadata": {},
   "outputs": [],
   "source": [
    "df.head()\n",
    "\n",
    "df.replace('?', np.nan, inplace=True)"
   ]
  },
  {
   "cell_type": "code",
   "execution_count": 35,
   "id": "ea2659b5",
   "metadata": {},
   "outputs": [],
   "source": [
    "# Convert columns to numeric\n",
    "df['ca'] = pd.to_numeric(df['ca'], errors='coerce')\n",
    "df['thal'] = pd.to_numeric(df['thal'], errors='coerce')\n"
   ]
  },
  {
   "cell_type": "code",
   "execution_count": 36,
   "id": "cadb2db4",
   "metadata": {},
   "outputs": [
    {
     "name": "stderr",
     "output_type": "stream",
     "text": [
      "C:\\Users\\ehabk\\AppData\\Local\\Temp\\ipykernel_13992\\516730923.py:1: FutureWarning: A value is trying to be set on a copy of a DataFrame or Series through chained assignment using an inplace method.\n",
      "The behavior will change in pandas 3.0. This inplace method will never work because the intermediate object on which we are setting values always behaves as a copy.\n",
      "\n",
      "For example, when doing 'df[col].method(value, inplace=True)', try using 'df.method({col: value}, inplace=True)' or df[col] = df[col].method(value) instead, to perform the operation inplace on the original object.\n",
      "\n",
      "\n",
      "  df['ca'].fillna(df['ca'].median(), inplace=True)\n",
      "C:\\Users\\ehabk\\AppData\\Local\\Temp\\ipykernel_13992\\516730923.py:2: FutureWarning: A value is trying to be set on a copy of a DataFrame or Series through chained assignment using an inplace method.\n",
      "The behavior will change in pandas 3.0. This inplace method will never work because the intermediate object on which we are setting values always behaves as a copy.\n",
      "\n",
      "For example, when doing 'df[col].method(value, inplace=True)', try using 'df.method({col: value}, inplace=True)' or df[col] = df[col].method(value) instead, to perform the operation inplace on the original object.\n",
      "\n",
      "\n",
      "  df['thal'].fillna(df['thal'].median(), inplace=True)\n"
     ]
    }
   ],
   "source": [
    "df['ca'].fillna(df['ca'].median(), inplace=True)\n",
    "df['thal'].fillna(df['thal'].median(), inplace=True)"
   ]
  },
  {
   "cell_type": "code",
   "execution_count": 37,
   "id": "5d605607",
   "metadata": {},
   "outputs": [
    {
     "name": "stdout",
     "output_type": "stream",
     "text": [
      "Numerical columns:  Index(['age', 'sex', 'cp', 'trestbps', 'chol', 'fbs', 'restecg', 'thalach',\n",
      "       'exang', 'oldpeak', 'slope', 'ca', 'thal'],\n",
      "      dtype='object')\n"
     ]
    }
   ],
   "source": [
    "numerical_cols = df.columns[df.columns != 'target']\n",
    "print(\"Numerical columns: \", numerical_cols)"
   ]
  },
  {
   "cell_type": "code",
   "execution_count": 38,
   "id": "d18528a0",
   "metadata": {},
   "outputs": [],
   "source": [
    "scaler = StandardScaler()\n",
    "df_scaled = df.copy()\n",
    "df_scaled[numerical_cols] = scaler.fit_transform(df[numerical_cols])"
   ]
  },
  {
   "cell_type": "code",
   "execution_count": 39,
   "id": "95071338",
   "metadata": {},
   "outputs": [],
   "source": [
    "X = df_scaled.drop('target', axis=1)\n",
    "y = df_scaled['target']\n",
    "\n",
    "X_train, X_test, y_train, y_test = train_test_split(X, y, test_size=0.2, random_state=42)"
   ]
  },
  {
   "cell_type": "code",
   "execution_count": 40,
   "id": "66347354",
   "metadata": {},
   "outputs": [
    {
     "name": "stdout",
     "output_type": "stream",
     "text": [
      "Fitting 5 folds for each of 10 candidates, totalling 50 fits\n",
      "Best parameters found by Randomized Search:  {'n_estimators': 100, 'min_samples_split': 4, 'max_depth': None}\n",
      "Best cross-validation score by Randomized Search:  0.6156462585034014\n"
     ]
    }
   ],
   "source": [
    "param_dist = {\n",
    "    'n_estimators': [50, 100, 150],\n",
    "    'max_depth': [None, 3, 5, 7],\n",
    "    'min_samples_split': [2, 4, 6]\n",
    "}\n",
    "\n",
    "random_search = RandomizedSearchCV(RandomForestClassifier(random_state=42), param_distributions=param_dist, n_iter=10, cv=5, n_jobs=-1, verbose=2, scoring='accuracy')\n",
    "random_search.fit(X_train, y_train)\n",
    "\n",
    "print(\"Best parameters found by Randomized Search: \", random_search.best_params_)\n",
    "print(\"Best cross-validation score by Randomized Search: \", random_search.best_score_)"
   ]
  },
  {
   "cell_type": "code",
   "execution_count": 41,
   "id": "7645fd0e",
   "metadata": {},
   "outputs": [
    {
     "name": "stdout",
     "output_type": "stream",
     "text": [
      "Classification Report:\n",
      "               precision    recall  f1-score   support\n",
      "\n",
      "           0       0.72      0.97      0.82        29\n",
      "           1       0.12      0.08      0.10        12\n",
      "           2       0.12      0.11      0.12         9\n",
      "           3       0.00      0.00      0.00         7\n",
      "           4       0.00      0.00      0.00         4\n",
      "\n",
      "    accuracy                           0.49        61\n",
      "   macro avg       0.19      0.23      0.21        61\n",
      "weighted avg       0.38      0.49      0.43        61\n",
      "\n"
     ]
    },
    {
     "name": "stderr",
     "output_type": "stream",
     "text": [
      "c:\\Users\\ehabk\\anaconda3\\Lib\\site-packages\\sklearn\\metrics\\_classification.py:1565: UndefinedMetricWarning: Precision is ill-defined and being set to 0.0 in labels with no predicted samples. Use `zero_division` parameter to control this behavior.\n",
      "  _warn_prf(average, modifier, f\"{metric.capitalize()} is\", len(result))\n",
      "c:\\Users\\ehabk\\anaconda3\\Lib\\site-packages\\sklearn\\metrics\\_classification.py:1565: UndefinedMetricWarning: Precision is ill-defined and being set to 0.0 in labels with no predicted samples. Use `zero_division` parameter to control this behavior.\n",
      "  _warn_prf(average, modifier, f\"{metric.capitalize()} is\", len(result))\n",
      "c:\\Users\\ehabk\\anaconda3\\Lib\\site-packages\\sklearn\\metrics\\_classification.py:1565: UndefinedMetricWarning: Precision is ill-defined and being set to 0.0 in labels with no predicted samples. Use `zero_division` parameter to control this behavior.\n",
      "  _warn_prf(average, modifier, f\"{metric.capitalize()} is\", len(result))\n"
     ]
    }
   ],
   "source": [
    "best_model = random_search.best_estimator_\n",
    "\n",
    "# Evaluate the best model on the test set\n",
    "y_pred_best = best_model.predict(X_test)\n",
    "\n",
    "print(\"Classification Report:\\n\", classification_report(y_test, y_pred_best))"
   ]
  },
  {
   "cell_type": "code",
   "execution_count": 42,
   "id": "9db67f28",
   "metadata": {},
   "outputs": [
    {
     "data": {
      "text/plain": [
       "['../models/scaler.pkl']"
      ]
     },
     "execution_count": 42,
     "metadata": {},
     "output_type": "execute_result"
    }
   ],
   "source": [
    "joblib.dump(best_model, '../models/best_model.pkl')\n",
    "joblib.dump(scaler, '../models/scaler.pkl')"
   ]
  },
  {
   "cell_type": "code",
   "execution_count": null,
   "id": "960679ae",
   "metadata": {},
   "outputs": [
    {
     "name": "stdout",
     "output_type": "stream",
     "text": [
      "          age       sex        cp  trestbps      chol       fbs   restecg  \\\n",
      "179 -0.159462  0.686202 -0.165268 -0.096170 -0.013408  2.394438  1.016684   \n",
      "228 -0.048643  0.686202  0.877985 -1.234430 -0.787231 -0.417635  1.016684   \n",
      "111  0.172994  0.686202  0.877985 -0.380735  0.044629  2.394438  1.016684   \n",
      "246  0.394632  0.686202  0.877985 -1.803559 -0.245555 -0.417635 -0.996749   \n",
      "60  -0.381100 -1.457296  0.877985 -0.096170  1.127981 -0.417635 -0.996749   \n",
      "..        ...       ...       ...       ...       ...       ...       ...   \n",
      "249  0.837908  0.686202 -1.208521 -0.209996 -0.748540  2.394438  1.016684   \n",
      "104 -0.602738  0.686202 -0.165268 -0.665300 -1.135451 -0.417635 -0.996749   \n",
      "300  0.283813  0.686202  0.877985 -0.096170 -2.238149 -0.417635 -0.996749   \n",
      "193  0.837908 -1.457296  0.877985  0.359134  0.915180  2.394438 -0.996749   \n",
      "184  0.616270 -1.457296  0.877985  1.497394  1.127981 -0.417635  1.016684   \n",
      "\n",
      "      thalach     exang   oldpeak     slope        ca      thal  \n",
      "179  1.024325 -0.696631 -0.896862 -0.976352  2.504881 -0.890238  \n",
      "228 -1.821905  1.435481 -0.896862  0.649113  0.360873 -0.890238  \n",
      "111 -0.245532  1.435481  0.138373  0.649113  0.360873 -0.890238  \n",
      "246  0.279926 -0.696631 -0.810592 -0.976352  0.360873  1.176752  \n",
      "60  -0.333108  1.435481  0.138373  0.649113 -0.711131  1.176752  \n",
      "..        ...       ...       ...       ...       ...       ...  \n",
      "249 -0.420684 -0.696631 -0.896862 -0.976352 -0.711131 -0.890238  \n",
      "104 -0.464472 -0.696631  0.828529  0.649113  2.504881  1.176752  \n",
      "300 -1.515388  1.435481  0.138373  0.649113  0.360873  1.176752  \n",
      "193 -1.909482 -0.696631  0.742260  0.649113  2.504881 -0.890238  \n",
      "184  0.498867 -0.696631 -0.896862 -0.976352 -0.711131 -0.890238  \n",
      "\n",
      "[61 rows x 13 columns]\n"
     ]
    }
   ],
   "source": []
  },
  {
   "cell_type": "code",
   "execution_count": null,
   "id": "89a8932a",
   "metadata": {},
   "outputs": [],
   "source": []
  }
 ],
 "metadata": {
  "kernelspec": {
   "display_name": "base",
   "language": "python",
   "name": "python3"
  },
  "language_info": {
   "codemirror_mode": {
    "name": "ipython",
    "version": 3
   },
   "file_extension": ".py",
   "mimetype": "text/x-python",
   "name": "python",
   "nbconvert_exporter": "python",
   "pygments_lexer": "ipython3",
   "version": "3.11.5"
  }
 },
 "nbformat": 4,
 "nbformat_minor": 5
}
